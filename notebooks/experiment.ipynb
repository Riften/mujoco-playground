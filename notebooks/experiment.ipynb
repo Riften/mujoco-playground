{
 "cells": [
  {
   "cell_type": "code",
   "execution_count": 1,
   "id": "a6474b61-6b57-4bcc-83c1-189865b87f72",
   "metadata": {},
   "outputs": [],
   "source": [
    "import physics_mujoco"
   ]
  },
  {
   "cell_type": "code",
   "execution_count": 4,
   "id": "1ffe6b51-9eb6-4375-8673-c7720e5a6982",
   "metadata": {},
   "outputs": [],
   "source": [
    "physics_mujoco.loadModelXML(\"xxx\")"
   ]
  },
  {
   "cell_type": "code",
   "execution_count": null,
   "id": "9f2abb68-ca93-48a6-94f1-b2d50808f39e",
   "metadata": {},
   "outputs": [],
   "source": []
  }
 ],
 "metadata": {
  "kernelspec": {
   "display_name": "Python 3 (ipykernel)",
   "language": "python",
   "name": "python3"
  },
  "language_info": {
   "codemirror_mode": {
    "name": "ipython",
    "version": 3
   },
   "file_extension": ".py",
   "mimetype": "text/x-python",
   "name": "python",
   "nbconvert_exporter": "python",
   "pygments_lexer": "ipython3",
   "version": "3.8.12"
  }
 },
 "nbformat": 4,
 "nbformat_minor": 5
}
