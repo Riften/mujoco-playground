{
 "cells": [
  {
   "cell_type": "code",
   "execution_count": 1,
   "id": "a6474b61-6b57-4bcc-83c1-189865b87f72",
   "metadata": {},
   "outputs": [
    {
     "name": "stdout",
     "output_type": "stream",
     "text": [
      "... Initialize log system from /home/yongxi/.rfpddl.config\n"
     ]
    }
   ],
   "source": [
    "import physics_mujoco"
   ]
  },
  {
   "cell_type": "code",
   "execution_count": 2,
   "id": "13ba5220-da5e-46bb-9ece-c0048be14098",
   "metadata": {},
   "outputs": [],
   "source": [
    "mjcf_file_path = '../resources/ur5e/ur5e_robot.xml'"
   ]
  },
  {
   "cell_type": "code",
   "execution_count": null,
   "id": "58993e4b-50c6-48d6-8264-a295f9c51f05",
   "metadata": {},
   "outputs": [],
   "source": []
  },
  {
   "cell_type": "code",
   "execution_count": 3,
   "id": "1ffe6b51-9eb6-4375-8673-c7720e5a6982",
   "metadata": {},
   "outputs": [],
   "source": [
    "mj_model = physics_mujoco.loadModelXML(mjcf_file_path)"
   ]
  },
  {
   "cell_type": "code",
   "execution_count": 4,
   "id": "9f2abb68-ca93-48a6-94f1-b2d50808f39e",
   "metadata": {},
   "outputs": [],
   "source": [
    "mj_data = mj_model.makeData()"
   ]
  },
  {
   "cell_type": "code",
   "execution_count": null,
   "id": "a3fdf1c8-79a0-4469-9631-45550908c9bf",
   "metadata": {},
   "outputs": [],
   "source": [
    "render = physics_mujoco.Render(mj_model, mj_data)"
   ]
  },
  {
   "cell_type": "code",
   "execution_count": null,
   "id": "6e74d8f3-a08b-46f3-8488-14d04447d7d5",
   "metadata": {},
   "outputs": [],
   "source": []
  }
 ],
 "metadata": {
  "kernelspec": {
   "display_name": "Python 3 (ipykernel)",
   "language": "python",
   "name": "python3"
  },
  "language_info": {
   "codemirror_mode": {
    "name": "ipython",
    "version": 3
   },
   "file_extension": ".py",
   "mimetype": "text/x-python",
   "name": "python",
   "nbconvert_exporter": "python",
   "pygments_lexer": "ipython3",
   "version": "3.8.12"
  }
 },
 "nbformat": 4,
 "nbformat_minor": 5
}
